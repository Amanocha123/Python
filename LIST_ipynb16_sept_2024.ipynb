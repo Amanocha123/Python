{
  "nbformat": 4,
  "nbformat_minor": 0,
  "metadata": {
    "colab": {
      "provenance": []
    },
    "kernelspec": {
      "name": "python3",
      "display_name": "Python 3"
    },
    "language_info": {
      "name": "python"
    }
  },
  "cells": [
    {
      "cell_type": "code",
      "execution_count": null,
      "metadata": {
        "id": "SX9YrAr8N0tn"
      },
      "outputs": [],
      "source": [
        "#LIST WITH MULTIPLE DATATYPES\n",
        "l2=[\"A\",2,\"B\",4,5]"
      ]
    },
    {
      "cell_type": "code",
      "source": [
        "l2"
      ],
      "metadata": {
        "colab": {
          "base_uri": "https://localhost:8080/"
        },
        "id": "ZqUoO1mDN7zS",
        "outputId": "3b760d5e-adce-4673-aa14-5ab186279497"
      },
      "execution_count": null,
      "outputs": [
        {
          "output_type": "execute_result",
          "data": {
            "text/plain": [
              "['A', 2, 'B', 4, 5]"
            ]
          },
          "metadata": {},
          "execution_count": 2
        }
      ]
    },
    {
      "cell_type": "code",
      "source": [
        "# CHANGE ITEM VALUE\n",
        "L2=[1,2,3,4,5,6,7]"
      ],
      "metadata": {
        "id": "MKMYanC4OF7j"
      },
      "execution_count": null,
      "outputs": []
    },
    {
      "cell_type": "code",
      "source": [
        "L2[-1]"
      ],
      "metadata": {
        "colab": {
          "base_uri": "https://localhost:8080/"
        },
        "id": "rdwBWfy5Pbvg",
        "outputId": "cffaff43-ac40-4a21-c0d6-55989855d30d"
      },
      "execution_count": null,
      "outputs": [
        {
          "output_type": "execute_result",
          "data": {
            "text/plain": [
              "7"
            ]
          },
          "metadata": {},
          "execution_count": 4
        }
      ]
    },
    {
      "cell_type": "code",
      "source": [],
      "metadata": {
        "id": "1jny9xuVPhb0"
      },
      "execution_count": null,
      "outputs": []
    },
    {
      "cell_type": "code",
      "source": [
        "L2[3:6]"
      ],
      "metadata": {
        "colab": {
          "base_uri": "https://localhost:8080/"
        },
        "id": "lYEW09oyPkI3",
        "outputId": "5d24470d-3df4-473a-9d73-402a07ddc85e"
      },
      "execution_count": null,
      "outputs": [
        {
          "output_type": "execute_result",
          "data": {
            "text/plain": [
              "[4, 5, 6]"
            ]
          },
          "metadata": {},
          "execution_count": 5
        }
      ]
    },
    {
      "cell_type": "code",
      "source": [
        "#ACCESSING THE LIST\n"
      ],
      "metadata": {
        "id": "6pgrhSYdQQAQ"
      },
      "execution_count": null,
      "outputs": []
    },
    {
      "cell_type": "code",
      "source": [
        "L2"
      ],
      "metadata": {
        "colab": {
          "base_uri": "https://localhost:8080/"
        },
        "id": "WiQd_-unS023",
        "outputId": "1e395c62-728b-4296-9ab2-ebe02293846f"
      },
      "execution_count": null,
      "outputs": [
        {
          "output_type": "execute_result",
          "data": {
            "text/plain": [
              "[1, 2, 3, 4, 5, 6, 7]"
            ]
          },
          "metadata": {},
          "execution_count": 8
        }
      ]
    },
    {
      "cell_type": "code",
      "source": [
        "#TUPLE 2 type of data structure\n",
        "\n",
        "t1=(1,2,3,4,5)"
      ],
      "metadata": {
        "id": "fWsHSO2pS3dW"
      },
      "execution_count": null,
      "outputs": []
    },
    {
      "cell_type": "code",
      "source": [],
      "metadata": {
        "id": "8HdnYhTFS5LO",
        "colab": {
          "base_uri": "https://localhost:8080/"
        },
        "outputId": "4c8199ef-2388-4470-bafa-7a6ca30ee4cf"
      },
      "execution_count": null,
      "outputs": [
        {
          "output_type": "execute_result",
          "data": {
            "text/plain": [
              "(1, 2, 3, 4, 5)"
            ]
          },
          "metadata": {},
          "execution_count": 11
        }
      ]
    },
    {
      "cell_type": "code",
      "source": [
        "t2=(\"ashish\",\"mayank\")\n",
        "t2"
      ],
      "metadata": {
        "colab": {
          "base_uri": "https://localhost:8080/"
        },
        "id": "o8aEfVKh5CcK",
        "outputId": "75c260ed-0e5f-473d-ad9a-2dc93a4c770b"
      },
      "execution_count": null,
      "outputs": [
        {
          "output_type": "execute_result",
          "data": {
            "text/plain": [
              "('ashish', 'mayank')"
            ]
          },
          "metadata": {},
          "execution_count": 12
        }
      ]
    },
    {
      "cell_type": "code",
      "source": [
        "a=2\n",
        "t3=(a>=2,a+2,a&2)\n",
        "\n",
        "t3"
      ],
      "metadata": {
        "colab": {
          "base_uri": "https://localhost:8080/"
        },
        "id": "JM_K9uR55Xa-",
        "outputId": "d2d1cb6a-de06-43b1-dc3a-62eac48d0f12"
      },
      "execution_count": null,
      "outputs": [
        {
          "output_type": "execute_result",
          "data": {
            "text/plain": [
              "(True, 4, 2)"
            ]
          },
          "metadata": {},
          "execution_count": 20
        }
      ]
    },
    {
      "cell_type": "code",
      "source": [
        "t4=[(1,2,44,\"ashish\",\"harshita\",a>2,)]"
      ],
      "metadata": {
        "id": "CSkS8UZa5jS9"
      },
      "execution_count": null,
      "outputs": []
    },
    {
      "cell_type": "code",
      "source": [],
      "metadata": {
        "id": "lY7vb4dB6HKs"
      },
      "execution_count": null,
      "outputs": []
    },
    {
      "cell_type": "code",
      "source": [
        "my_list = list(t4)#converting tuple into list\n"
      ],
      "metadata": {
        "id": "-Gg8WAyq7Bbs"
      },
      "execution_count": null,
      "outputs": []
    },
    {
      "cell_type": "code",
      "source": [
        "my_list.pop(2)"
      ],
      "metadata": {
        "colab": {
          "base_uri": "https://localhost:8080/"
        },
        "id": "sH-UmnU17tGP",
        "outputId": "d09f3290-199b-4008-9493-6cf63d01f6ca"
      },
      "execution_count": null,
      "outputs": [
        {
          "output_type": "execute_result",
          "data": {
            "text/plain": [
              "False"
            ]
          },
          "metadata": {},
          "execution_count": 32
        }
      ]
    },
    {
      "cell_type": "code",
      "source": [
        "t1=('AAFT',)  #For single element we have to use comma!\n",
        "print(type(t1))"
      ],
      "metadata": {
        "id": "6h1si_Eb7uha",
        "colab": {
          "base_uri": "https://localhost:8080/"
        },
        "outputId": "01ac763e-0236-4ae8-8d21-506bdfc78225"
      },
      "execution_count": null,
      "outputs": [
        {
          "output_type": "stream",
          "name": "stdout",
          "text": [
            "<class 'tuple'>\n"
          ]
        }
      ]
    },
    {
      "cell_type": "code",
      "source": [
        "ab=('apple','banana','cherry')\n"
      ],
      "metadata": {
        "id": "lkdgAC979FX-"
      },
      "execution_count": null,
      "outputs": []
    },
    {
      "cell_type": "code",
      "source": [
        "ab[1]"
      ],
      "metadata": {
        "id": "h5G4NDRP9cS1",
        "colab": {
          "base_uri": "https://localhost:8080/",
          "height": 35
        },
        "outputId": "c8dadc5f-b9e6-4684-c3a3-9f4499de458c"
      },
      "execution_count": null,
      "outputs": [
        {
          "output_type": "execute_result",
          "data": {
            "text/plain": [
              "'banana'"
            ],
            "application/vnd.google.colaboratory.intrinsic+json": {
              "type": "string"
            }
          },
          "metadata": {},
          "execution_count": 11
        }
      ]
    },
    {
      "cell_type": "code",
      "source": [
        "a=(\"apple\",\"banana\",\"cherry\")"
      ],
      "metadata": {
        "id": "aSoRQY_feSJw"
      },
      "execution_count": null,
      "outputs": []
    },
    {
      "cell_type": "code",
      "source": [
        "c=list(a)"
      ],
      "metadata": {
        "id": "_fCSQsL1gfhj"
      },
      "execution_count": null,
      "outputs": []
    },
    {
      "cell_type": "code",
      "source": [
        "c.append(\"mango\")\n",
        "a=tuple(c)"
      ],
      "metadata": {
        "id": "mp3Dg_t2LvHl"
      },
      "execution_count": null,
      "outputs": []
    },
    {
      "cell_type": "code",
      "source": [
        "a"
      ],
      "metadata": {
        "colab": {
          "base_uri": "https://localhost:8080/"
        },
        "id": "Tt4uPRTeMC3e",
        "outputId": "a3a73742-159c-48d9-f969-088d922366c9"
      },
      "execution_count": null,
      "outputs": [
        {
          "output_type": "execute_result",
          "data": {
            "text/plain": [
              "('apple', 'banana', 'cherry')"
            ]
          },
          "metadata": {},
          "execution_count": 26
        }
      ]
    },
    {
      "cell_type": "code",
      "source": [
        "thistuple=(\"apple\",\"banana\",\"cherry\")\n",
        "y=list(thistuple)\n",
        "y.append(\"orange\")\n",
        "thistuple=(tuple(y))"
      ],
      "metadata": {
        "id": "AoD_gB_WMD7R"
      },
      "execution_count": null,
      "outputs": []
    },
    {
      "cell_type": "code",
      "source": [
        "thistuple"
      ],
      "metadata": {
        "colab": {
          "base_uri": "https://localhost:8080/"
        },
        "id": "vUS_B0CIM04i",
        "outputId": "9a2d2e85-13cd-4cf8-c109-97dd5a01b06d"
      },
      "execution_count": null,
      "outputs": [
        {
          "output_type": "execute_result",
          "data": {
            "text/plain": [
              "('apple', 'banana', 'cherry')"
            ]
          },
          "metadata": {},
          "execution_count": 60
        }
      ]
    },
    {
      "cell_type": "code",
      "source": [
        "thistuple=(\"apple\",\"banana\",\"cherry\")\n",
        "y=(\"orange\",)\n",
        "thistuple+=y"
      ],
      "metadata": {
        "id": "YxXYaTdiNCjO"
      },
      "execution_count": null,
      "outputs": []
    },
    {
      "cell_type": "code",
      "source": [
        "thistuple"
      ],
      "metadata": {
        "colab": {
          "base_uri": "https://localhost:8080/"
        },
        "id": "Y23VOJHSPLWo",
        "outputId": "b567d3db-1044-40a5-eb5f-ae4637b67231"
      },
      "execution_count": null,
      "outputs": [
        {
          "output_type": "execute_result",
          "data": {
            "text/plain": [
              "('apple', 'banana', 'cherry', 'orange')"
            ]
          },
          "metadata": {},
          "execution_count": 68
        }
      ]
    },
    {
      "cell_type": "code",
      "source": [
        "fruits=(\"apple\",\"banana\",\"cherry\")\n",
        "mytuple=fruits*2"
      ],
      "metadata": {
        "id": "wJ1EBUQJPfKf"
      },
      "execution_count": null,
      "outputs": []
    },
    {
      "cell_type": "code",
      "source": [
        "mytuple"
      ],
      "metadata": {
        "colab": {
          "base_uri": "https://localhost:8080/"
        },
        "id": "zTN4RWpfRZLZ",
        "outputId": "d4b92139-bae0-4f42-f513-f6ca22ae58d6"
      },
      "execution_count": null,
      "outputs": [
        {
          "output_type": "execute_result",
          "data": {
            "text/plain": [
              "('apple', 'banana', 'cherry', 'apple', 'banana', 'cherry')"
            ]
          },
          "metadata": {},
          "execution_count": 71
        }
      ]
    },
    {
      "cell_type": "code",
      "source": [
        "mytuple=(1,2,3,4,5,6,7,8,9,8)"
      ],
      "metadata": {
        "id": "NApMMhG2RgYj"
      },
      "execution_count": null,
      "outputs": []
    },
    {
      "cell_type": "code",
      "source": [
        "x=mytuple.count(8)   #count=will tell how many values are repeated"
      ],
      "metadata": {
        "id": "CtvooxVLRyPV"
      },
      "execution_count": null,
      "outputs": []
    },
    {
      "cell_type": "code",
      "source": [
        "x"
      ],
      "metadata": {
        "colab": {
          "base_uri": "https://localhost:8080/"
        },
        "id": "Dn-Tb1fCSG19",
        "outputId": "376d803a-4c16-43ad-97fa-cd8d0009814b"
      },
      "execution_count": null,
      "outputs": [
        {
          "output_type": "execute_result",
          "data": {
            "text/plain": [
              "2"
            ]
          },
          "metadata": {},
          "execution_count": 76
        }
      ]
    },
    {
      "cell_type": "code",
      "source": [
        "x=mytuple.index(8) #index = will tell the position of number"
      ],
      "metadata": {
        "id": "4X1sQ88zSH06"
      },
      "execution_count": null,
      "outputs": []
    },
    {
      "cell_type": "code",
      "source": [
        "x"
      ],
      "metadata": {
        "colab": {
          "base_uri": "https://localhost:8080/"
        },
        "id": "UiT4ZL7iST15",
        "outputId": "d6228cae-e9c2-4763-a394-50ce11550ed5"
      },
      "execution_count": null,
      "outputs": [
        {
          "output_type": "execute_result",
          "data": {
            "text/plain": [
              "7"
            ]
          },
          "metadata": {},
          "execution_count": 78
        }
      ]
    },
    {
      "cell_type": "code",
      "source": [],
      "metadata": {
        "id": "PuSJKHczSVBZ"
      },
      "execution_count": null,
      "outputs": []
    },
    {
      "cell_type": "code",
      "source": [],
      "metadata": {
        "id": "D_m7oK2TE3Hd"
      },
      "execution_count": null,
      "outputs": []
    }
  ]
}