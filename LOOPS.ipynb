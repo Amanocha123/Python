{
  "cells": [
    {
      "cell_type": "code",
      "execution_count": null,
      "metadata": {
        "colab": {
          "base_uri": "https://localhost:8080/"
        },
        "id": "YIkZICWNCimm",
        "outputId": "2ec187a5-e71c-4da9-f4b7-5d5e60573f58"
      },
      "outputs": [
        {
          "name": "stdout",
          "output_type": "stream",
          "text": [
            "enter any number : 3\n",
            "the factorial of 3 is 6\n"
          ]
        }
      ],
      "source": [
        "#fatorial\n",
        "n=int(input('enter any number : '))\n",
        "fact=1\n",
        "for i in range(1,n+1):\n",
        "    fact=fact*i\n",
        "print('the factorial of',n,'is',fact)"
      ]
    },
    {
      "cell_type": "code",
      "execution_count": null,
      "metadata": {
        "colab": {
          "base_uri": "https://localhost:8080/"
        },
        "id": "OzsAwYTRCtgH",
        "outputId": "060197a7-3421-4962-ce38-f326249dd1a7"
      },
      "outputs": [
        {
          "name": "stdout",
          "output_type": "stream",
          "text": [
            "enter any number : 4\n",
            "the factorial of 4 is 24\n"
          ]
        }
      ],
      "source": [
        "# CALCULATE  FACTORIAL WITH WHILE LOOP\n",
        "n=int(input('enter any number : '))\n",
        "fact=1\n",
        "i=1\n",
        "while i<=n:\n",
        "    fact=fact*i\n",
        "    i=i+1\n",
        "print('the factorial of',n,'is',fact)"
      ]
    },
    {
      "cell_type": "code",
      "execution_count": null,
      "metadata": {
        "colab": {
          "base_uri": "https://localhost:8080/"
        },
        "id": "nRoGcmu-FLpI",
        "outputId": "76e744c1-ea14-4258-eea1-1721b1db47ae"
      },
      "outputs": [
        {
          "name": "stdout",
          "output_type": "stream",
          "text": [
            "enter any number : 0\n",
            "not prime\n"
          ]
        }
      ],
      "source": [
        "# wap to check given number is prime or not\n",
        "n=int(input('enter any number : '))\n",
        "if n==0 or n==1:\n",
        "        print('not prime')\n",
        "elif n>1:\n",
        "        for i in range(2,n):\n",
        "          if n%i==0:\n",
        "            print('not prime')\n",
        "          break\n",
        "        else:\n",
        "         print('prime')"
      ]
    },
    {
      "cell_type": "code",
      "execution_count": null,
      "metadata": {
        "colab": {
          "base_uri": "https://localhost:8080/"
        },
        "id": "e7i-0RgRFs8Y",
        "outputId": "fff0999a-c36b-470f-e754-6cc6fc1f4386"
      },
      "outputs": [
        {
          "name": "stdout",
          "output_type": "stream",
          "text": [
            "enter any number : 98769867\n",
            "reverse number is 76896789\n"
          ]
        }
      ],
      "source": [
        "# REVERSE NUMBER\n",
        "num=int(input('enter any number : '))\n",
        "rev=0\n",
        "while num>0:\n",
        " rev=(rev*10)+(num%10)\n",
        " num=num//10\n",
        "print('reverse number is',rev)"
      ]
    },
    {
      "cell_type": "code",
      "execution_count": null,
      "metadata": {
        "colab": {
          "base_uri": "https://localhost:8080/"
        },
        "id": "AawMsjBiIZU8",
        "outputId": "aad7ad7b-33c3-4857-c865-9bedef0d42bd"
      },
      "outputs": [
        {
          "name": "stdout",
          "output_type": "stream",
          "text": [
            "enter any number : 121\n",
            "palindrome\n"
          ]
        }
      ],
      "source": [
        "# palindrome\n",
        "num=int(input('enter any number : '))\n",
        "temp=num\n",
        "rev=0\n",
        "while num>0:\n",
        " rev=(rev*10)+(num%10)\n",
        " num=num//10\n",
        "if temp==rev:\n",
        "    print('palindrome')\n",
        "else:\n",
        "    print('not palindrome')\n"
      ]
    },
    {
      "cell_type": "code",
      "execution_count": null,
      "metadata": {
        "colab": {
          "base_uri": "https://localhost:8080/"
        },
        "id": "QqHR0FJjJl8A",
        "outputId": "809fcb8b-93f3-47b6-99fc-15ad2c1f383a"
      },
      "outputs": [
        {
          "name": "stdout",
          "output_type": "stream",
          "text": [
            "enter any number : 7\n",
            "0\n",
            "1\n",
            "1\n",
            "2\n",
            "3\n",
            "5\n",
            "8\n"
          ]
        }
      ],
      "source": [
        "# fibonacci series\n",
        "num=int(input('enter any number : '))\n",
        "a=0\n",
        "b=1\n",
        "print(a)\n",
        "print(b)\n",
        "for i in range(2,num):\n",
        "  c=a+b\n",
        "  print(c)\n",
        "  a=b\n",
        "  b=c"
      ]
    },
    {
      "cell_type": "code",
      "execution_count": null,
      "metadata": {
        "colab": {
          "base_uri": "https://localhost:8080/"
        },
        "id": "xvWeAo4QSo5W",
        "outputId": "0b2628df-513f-4676-b42b-1676115b3249"
      },
      "outputs": [
        {
          "name": "stdout",
          "output_type": "stream",
          "text": [
            "enter any number : 8\n",
            "0\n",
            "1\n",
            "1\n",
            "2\n",
            "3\n",
            "5\n",
            "8\n",
            "13\n"
          ]
        }
      ],
      "source": [
        "num=int(input('enter any number : '))\n",
        "a=0\n",
        "b=1\n",
        "print(a)\n",
        "print(b)\n",
        "i=2\n",
        "while(i<num):\n",
        "  c=a+b\n",
        "  print(c)\n",
        "  a=b\n",
        "  b=c\n",
        "  i=i+1"
      ]
    },
    {
      "cell_type": "code",
      "execution_count": null,
      "metadata": {
        "colab": {
          "base_uri": "https://localhost:8080/"
        },
        "id": "q_g8Ny0rTSJB",
        "outputId": "2daa9a76-a7eb-4bbb-9061-df45ecc732ef"
      },
      "outputs": [
        {
          "name": "stdout",
          "output_type": "stream",
          "text": [
            "enter any number : 9\n",
            "not armstrong\n"
          ]
        }
      ],
      "source": [
        "# armstrong\n",
        "n=int(input('enter any number : '))\n",
        "x=n\n",
        "sum=0\n",
        "while(n>0):\n",
        "  sum=sum+(n%10)*(n%10)*(n%10)\n",
        "  n=n//10\n",
        "if x==sum:\n",
        "  print('armstrong')\n",
        "else:\n",
        "  print('not armstrong')"
      ]
    },
    {
      "cell_type": "code",
      "execution_count": null,
      "metadata": {
        "colab": {
          "base_uri": "https://localhost:8080/"
        },
        "id": "-uwQU7BAXKw8",
        "outputId": "3f0f05e3-b367-4150-f011-633df8f1a838"
      },
      "outputs": [
        {
          "name": "stdout",
          "output_type": "stream",
          "text": [
            "enter any number : 10\n",
            "*\n",
            "**\n",
            "***\n",
            "****\n",
            "*****\n",
            "******\n",
            "*******\n",
            "********\n",
            "*********\n",
            "**********\n"
          ]
        }
      ],
      "source": [
        "#WAP TO PRINT LEFT TRIANGLE\n",
        "n=int(input('enter any number : '))\n",
        "for i in range(1,n+1):\n",
        "  for j in range(1,i+1):\n",
        "    print('*',end='')\n",
        "  print()"
      ]
    },
    {
      "cell_type": "code",
      "execution_count": null,
      "metadata": {
        "id": "wh2yEYogU5xD",
        "colab": {
          "base_uri": "https://localhost:8080/"
        },
        "outputId": "348db7f7-8869-4664-c19f-1e6cfe86d59d"
      },
      "outputs": [
        {
          "output_type": "stream",
          "name": "stdout",
          "text": [
            "enter any number : 9\n",
            "        *\n",
            "       **\n",
            "      ***\n",
            "     ****\n",
            "    *****\n",
            "   ******\n",
            "  *******\n",
            " ********\n",
            "*********\n"
          ]
        }
      ],
      "source": [
        "#RIGHT TRIANGLE\n",
        "n=int(input('enter any number : '))\n",
        "for i in range(1,n+1):\n",
        "  for j in range(1,n+1-i):\n",
        "    print(' ',end='')\n",
        "  for k in range(1,i+1):\n",
        "    print('*',end='')\n",
        "  print()\n"
      ]
    },
    {
      "cell_type": "code",
      "execution_count": null,
      "metadata": {
        "id": "P7-VbCiELqDb"
      },
      "outputs": [],
      "source": []
    },
    {
      "cell_type": "code",
      "source": [
        "#set\n",
        "a={1,2,3,4}"
      ],
      "metadata": {
        "id": "K4KaR6Gdnbc_"
      },
      "execution_count": null,
      "outputs": []
    },
    {
      "cell_type": "code",
      "source": [
        "type(a)"
      ],
      "metadata": {
        "colab": {
          "base_uri": "https://localhost:8080/"
        },
        "id": "yWyUnA1XJzPB",
        "outputId": "d4a1f690-d539-442f-f048-1f8d81162577"
      },
      "execution_count": null,
      "outputs": [
        {
          "output_type": "execute_result",
          "data": {
            "text/plain": [
              "set"
            ]
          },
          "metadata": {},
          "execution_count": 4
        }
      ]
    },
    {
      "cell_type": "code",
      "source": [
        "type (a)"
      ],
      "metadata": {
        "colab": {
          "base_uri": "https://localhost:8080/"
        },
        "id": "TZnYuhOpKWtm",
        "outputId": "db39d16c-db59-4b8f-e55c-c91dce886cc5"
      },
      "execution_count": null,
      "outputs": [
        {
          "output_type": "execute_result",
          "data": {
            "text/plain": [
              "dict"
            ]
          },
          "metadata": {},
          "execution_count": 6
        }
      ]
    },
    {
      "cell_type": "code",
      "source": [
        "ApplicationError={\"name\":{\"age\":24,\n",
        "    \"a\":1,\n",
        "    \"b\":2\n",
        "}}"
      ],
      "metadata": {
        "id": "c9Qz4PJaKY7p"
      },
      "execution_count": null,
      "outputs": []
    },
    {
      "cell_type": "code",
      "source": [
        "  myfamily = {\n",
        "  \"child1\" : {\n",
        "    \"name\" : \"Emil\",\n",
        "    \"year\" : 2004\n",
        "  }}"
      ],
      "metadata": {
        "id": "TCWBEHjfLedQ"
      },
      "execution_count": null,
      "outputs": []
    },
    {
      "cell_type": "code",
      "source": [
        "myfamily"
      ],
      "metadata": {
        "colab": {
          "base_uri": "https://localhost:8080/"
        },
        "id": "tZOwk4eGLwFQ",
        "outputId": "940f0168-16c2-4f4e-ed25-991c7fded797"
      },
      "execution_count": null,
      "outputs": [
        {
          "output_type": "execute_result",
          "data": {
            "text/plain": [
              "{'child1': {'name': 'Emil', 'year': 2004}}"
            ]
          },
          "metadata": {},
          "execution_count": 15
        }
      ]
    },
    {
      "cell_type": "code",
      "source": [
        "ApplicationError"
      ],
      "metadata": {
        "colab": {
          "base_uri": "https://localhost:8080/"
        },
        "id": "m7KDu5xfMIp-",
        "outputId": "793a8733-ed9b-426f-d661-2b6fa0bd831c"
      },
      "execution_count": null,
      "outputs": [
        {
          "output_type": "execute_result",
          "data": {
            "text/plain": [
              "{'name': {'age': 24, 'a': 1, 'b': 2}}"
            ]
          },
          "metadata": {},
          "execution_count": 16
        }
      ]
    },
    {
      "cell_type": "code",
      "source": [],
      "metadata": {
        "id": "LvgHNHWiMM3T"
      },
      "execution_count": null,
      "outputs": []
    }
  ],
  "metadata": {
    "colab": {
      "provenance": [],
      "toc_visible": true
    },
    "kernelspec": {
      "display_name": "Python 3",
      "name": "python3"
    },
    "language_info": {
      "name": "python"
    }
  },
  "nbformat": 4,
  "nbformat_minor": 0
}